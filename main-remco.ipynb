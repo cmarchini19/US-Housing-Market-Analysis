{
 "cells": [
  {
   "cell_type": "code",
   "execution_count": null,
   "metadata": {},
   "outputs": [],
   "source": [
    "import pandas as pd"
   ]
  },
  {
   "cell_type": "code",
   "execution_count": null,
   "metadata": {},
   "outputs": [],
   "source": [
    "# ZHVI All Homes (SFR, Condo/Co-op) Time Series ($) (by ZIP code)\n",
    "csv_home_values = \"Resources/Zip_Zhvi_AllHomes.csv\"\n",
    "\n",
    "# Median Sale Price - Seasonally Adjusted ($) (by ZIP code)\n",
    "csv_home_sales = \"Resources/Sale_Prices_Zip.csv\"\n",
    "\n",
    "# Monthly Home Sales (Number, Raw) (by ZIP code)\n",
    "csv_number_sales = \"Resources/Sale_Counts_Zip.csv\"\n",
    "\n",
    "# Foreclosure Resales (%) (by ZIP code)\n",
    "csv_foreclosure_resales = \"Resources/SalesPrevForeclosed_Share_Zip.csv\"\n",
    "\n",
    "home_values = pd.read_csv(csv_home_values, encoding=\"ISO-8859-1\")\n",
    "home_sales = pd.read_csv(csv_home_sales, encoding=\"ISO-8859-1\")\n",
    "number_sales = pd.read_csv(csv_number_sales, encoding=\"ISO-8859-1\")\n",
    "foreclosure_resales = pd.read_csv(csv_foreclosure_resales, encoding=\"ISO-8859-1\")\n",
    "\n",
    "# Suffixes:\n",
    "# ZVHI = Zillow Home Value Index ($)\n",
    "# MSR = Median Sales Price - Seasonally Adjusted ($)\n",
    "# NS = Number of Sales\n",
    "# FR = Foreclosure Resales (%)\n",
    "\n"
   ]
  },
  {
   "cell_type": "code",
   "execution_count": null,
   "metadata": {},
   "outputs": [],
   "source": [
    "# Python Dictionary to translate US States to Two letter codes\n",
    "# Dictionary obtained from rogerallen (https://gist.github.com/rogerallen/1583593)\n",
    "us_state_abbrev = {\n",
    "    'Alabama': 'AL',\n",
    "    'Alaska': 'AK',\n",
    "    'Arizona': 'AZ',\n",
    "    'Arkansas': 'AR',\n",
    "    'California': 'CA',\n",
    "    'Colorado': 'CO',\n",
    "    'Connecticut': 'CT',\n",
    "    'Delaware': 'DE',\n",
    "    'District of Columbia': 'DC',\n",
    "    'Florida': 'FL',\n",
    "    'Georgia': 'GA',\n",
    "    'Hawaii': 'HI',\n",
    "    'Idaho': 'ID',\n",
    "    'Illinois': 'IL',\n",
    "    'Indiana': 'IN',\n",
    "    'Iowa': 'IA',\n",
    "    'Kansas': 'KS',\n",
    "    'Kentucky': 'KY',\n",
    "    'Louisiana': 'LA',\n",
    "    'Maine': 'ME',\n",
    "    'Maryland': 'MD',\n",
    "    'Massachusetts': 'MA',\n",
    "    'Michigan': 'MI',\n",
    "    'Minnesota': 'MN',\n",
    "    'Mississippi': 'MS',\n",
    "    'Missouri': 'MO',\n",
    "    'Montana': 'MT',\n",
    "    'Nebraska': 'NE',\n",
    "    'Nevada': 'NV',\n",
    "    'New Hampshire': 'NH',\n",
    "    'New Jersey': 'NJ',\n",
    "    'New Mexico': 'NM',\n",
    "    'New York': 'NY',\n",
    "    'North Carolina': 'NC',\n",
    "    'North Dakota': 'ND',\n",
    "    'Northern Mariana Islands':'MP',\n",
    "    'Ohio': 'OH',\n",
    "    'Oklahoma': 'OK',\n",
    "    'Oregon': 'OR',\n",
    "    'Palau': 'PW',\n",
    "    'Pennsylvania': 'PA',\n",
    "    'Puerto Rico': 'PR',\n",
    "    'Rhode Island': 'RI',\n",
    "    'South Carolina': 'SC',\n",
    "    'South Dakota': 'SD',\n",
    "    'Tennessee': 'TN',\n",
    "    'Texas': 'TX',\n",
    "    'Utah': 'UT',\n",
    "    'Vermont': 'VT',\n",
    "    'Virgin Islands': 'VI',\n",
    "    'Virginia': 'VA',\n",
    "    'Washington': 'WA',\n",
    "    'West Virginia': 'WV',\n",
    "    'Wisconsin': 'WI',\n",
    "    'Wyoming': 'WY',\n",
    "}\n",
    "\n",
    "# Rename StateName columns\n",
    "home_values = home_values.rename(columns={\"RegionName\":\"ZIP Code\",\n",
    "                                          \"2008-01\":\"2008-01_ZHVI\",\n",
    "                                          \"2008-02\":\"2008-02_ZHVI\"})\n",
    "home_sales = home_sales.rename(columns={\"RegionName\":\"ZIP Code\",\n",
    "                                        \"StateName\":\"State\"})\n",
    "number_sales = number_sales.rename(columns={\"RegionName\":\"ZIP Code\",\n",
    "                                            \"StateName\":\"State\",\n",
    "                                            \"seasAdj\":\"seasAdj_NS\"})\n",
    "foreclosure_resales = foreclosure_resales.rename(columns={\"RegionName\":\"ZIP Code\",\n",
    "                                                          \"StateName\":\"State\"})\n",
    "\n",
    "# Translate states into two letter codes\n",
    "for index, row in home_sales.iterrows():\n",
    "    state = home_sales.loc[index, \"State\"]\n",
    "    abbr = us_state_abbrev[state]\n",
    "    home_sales.loc[index, \"State\"] = abbr\n",
    "    \n",
    "for index, row in number_sales.iterrows():\n",
    "    state = number_sales.loc[index, \"State\"]\n",
    "    abbr = us_state_abbrev[state]\n",
    "    number_sales.loc[index, \"State\"] = abbr\n",
    "\n",
    "for index, row in foreclosure_resales.iterrows():\n",
    "    state = foreclosure_resales.loc[index, \"State\"]\n",
    "    abbr = us_state_abbrev[state]\n",
    "    foreclosure_resales.loc[index, \"State\"] = abbr\n",
    "\n",
    "home_sales.head()"
   ]
  },
  {
   "cell_type": "code",
   "execution_count": null,
   "metadata": {},
   "outputs": [],
   "source": [
    "merge1 = pd.merge(home_values, home_sales, on=[\"ZIP Code\",\"State\",\"RegionID\"], how=\"outer\", suffixes=(\"_ZHVI\", \"_MSR\"))\n",
    "merge2 = pd.merge(number_sales, foreclosure_resales, on=[\"ZIP Code\",\"State\",\"RegionID\"], how=\"outer\", suffixes=(\"_NS\", \"_FR\"))\n",
    "main_data = pd.merge(merge1, merge2, on=[\"ZIP Code\",\"State\",\"RegionID\"], how=\"outer\")\n",
    "\n",
    "main_data.head()"
   ]
  },
  {
   "cell_type": "code",
   "execution_count": null,
   "metadata": {},
   "outputs": [],
   "source": [
    "#main_data.to_csv(\"Output/main_data.csv\", index=False, header=True)"
   ]
  },
  {
   "cell_type": "code",
   "execution_count": 225,
   "metadata": {},
   "outputs": [
    {
     "ename": "SyntaxError",
     "evalue": "invalid syntax (<ipython-input-225-f5443bdc4bd2>, line 2)",
     "output_type": "error",
     "traceback": [
      "\u001b[1;36m  File \u001b[1;32m\"<ipython-input-225-f5443bdc4bd2>\"\u001b[1;36m, line \u001b[1;32m2\u001b[0m\n\u001b[1;33m    main_data[\"2009-Avg_ZHVI\"] =\u001b[0m\n\u001b[1;37m                                ^\u001b[0m\n\u001b[1;31mSyntaxError\u001b[0m\u001b[1;31m:\u001b[0m invalid syntax\n"
     ]
    }
   ],
   "source": [
    "main_data[\"2008-Avg_ZHVI\"] = main_data.iloc[:, 7:19].mean(axis=1)\n",
    "main_data[\"2009-Avg_ZHVI\"] = main_data.iloc[:, 7:31].mean(axis=1)\n",
    "main_data[\"2010-Avg_ZHVI\"] = main_data.iloc[:, 7:19].mean(axis=1)\n",
    "main_data[\"2011-Avg_ZHVI\"] = main_data.iloc[:, 7:19].mean(axis=1)\n",
    "main_data[\"2012-Avg_ZHVI\"] = main_data.iloc[:, 7:19].mean(axis=1)\n",
    "main_data[\"2013-Avg_ZHVI\"] = main_data.iloc[:, 7:19].mean(axis=1)\n",
    "main_data[\"2014-Avg_ZHVI\"] = main_data.iloc[:, 7:19].mean(axis=1)\n",
    "main_data[\"2015-Avg_ZHVI\"] = main_data.iloc[:, 7:19].mean(axis=1)\n",
    "main_data[\"2016-Avg_ZHVI\"] = main_data.iloc[:, 7:19].mean(axis=1)\n",
    "main_data[\"2017-Avg_ZHVI\"] = main_data.iloc[:, 7:19].mean(axis=1)\n",
    "main_data[\"2018-Avg_ZHVI\"] = main_data.iloc[:, 7:19].mean(axis=1)\n",
    "main_data[\"2019-Avg_ZHVI\"] = main_data.iloc[:, 7:19].mean(axis=1)\n",
    "    "
   ]
  },
  {
   "cell_type": "code",
   "execution_count": null,
   "metadata": {
    "scrolled": true
   },
   "outputs": [],
   "source": [
    "# Calculating average home value per year\n",
    "columns = main_data.columns\n",
    "print([x for x in columns])\n",
    "\n",
    "main_data[\"2008-Avg_ZHVI\"] = main_data[[\"2008-01_ZHVI\",\"2008-02_ZHVI\",\"2008-03_ZHVI\",\"2008-04_ZHVI\",\"2008-05_ZHVI\",\"2008-06_ZHVI\",\n",
    "                                    \"2008-07_ZHVI\",\"2008-08_ZHVI\",\"2008-09_ZHVI\",\"2008-10_ZHVI\",\"2008-11_ZHVI\",\"2008-12_ZHVI\"]].mean(axis=1)\n",
    "main_data[\"2009-Avg_ZHVI\"] = main_data[[\"2009-01_ZHVI\",\"2009-02_ZHVI\",\"2009-03_ZHVI\",\"2009-04_ZHVI\",\"2009-05_ZHVI\",\"2009-06_ZHVI\",\n",
    "                                    \"2009-07_ZHVI\",\"2009-08_ZHVI\",\"2009-09_ZHVI\",\"2009-10_ZHVI\",\"2009-11_ZHVI\",\"2009-12_ZHVI\"]].mean(axis=1)\n",
    "main_data[\"2010-Avg_ZHVI\"] = main_data[[\"2010-01_ZHVI\",\"2010-02_ZHVI\",\"2010-03_ZHVI\",\"2010-04_ZHVI\",\"2010-05_ZHVI\",\"2010-06_ZHVI\",\n",
    "                                    \"2010-07_ZHVI\",\"2010-08_ZHVI\",\"2010-09_ZHVI\",\"2010-10_ZHVI\",\"2010-11_ZHVI\",\"2010-12_ZHVI\"]].mean(axis=1)\n",
    "main_data[\"2011-Avg_ZHVI\"] = main_data[[\"2011-01_ZHVI\",\"2011-02_ZHVI\",\"2011-03_ZHVI\",\"2011-04_ZHVI\",\"2011-05_ZHVI\",\"2011-06_ZHVI\",\n",
    "                                    \"2011-07_ZHVI\",\"2011-08_ZHVI\",\"2011-09_ZHVI\",\"2011-10_ZHVI\",\"2011-11_ZHVI\",\"2011-12_ZHVI\"]].mean(axis=1)\n",
    "main_data[\"2012-Avg_ZHVI\"] = main_data[[\"2012-01_ZHVI\",\"2012-02_ZHVI\",\"2012-03_ZHVI\",\"2012-04_ZHVI\",\"2012-05_ZHVI\",\"2012-06_ZHVI\",\n",
    "                                    \"2012-07_ZHVI\",\"2012-08_ZHVI\",\"2012-09_ZHVI\",\"2012-10_ZHVI\",\"2012-11_ZHVI\",\"2012-12_ZHVI\"]].mean(axis=1)\n",
    "main_data[\"2013-Avg_ZHVI\"] = main_data[[\"2013-01_ZHVI\",\"2013-02_ZHVI\",\"2013-03_ZHVI\",\"2013-04_ZHVI\",\"2013-05_ZHVI\",\"2013-06_ZHVI\",\n",
    "                                    \"2013-07_ZHVI\",\"2013-08_ZHVI\",\"2013-09_ZHVI\",\"2013-10_ZHVI\",\"2013-11_ZHVI\",\"2013-12_ZHVI\"]].mean(axis=1)\n",
    "main_data[\"2014-Avg_ZHVI\"] = main_data[[\"2014-01_ZHVI\",\"2014-02_ZHVI\",\"2014-03_ZHVI\",\"2014-04_ZHVI\",\"2014-05_ZHVI\",\"2014-06_ZHVI\",\n",
    "                                    \"2014-07_ZHVI\",\"2014-08_ZHVI\",\"2014-09_ZHVI\",\"2014-10_ZHVI\",\"2014-11_ZHVI\",\"2014-12_ZHVI\"]].mean(axis=1)\n",
    "main_data[\"2015-Avg_ZHVI\"] = main_data[[\"2015-01_ZHVI\",\"2015-02_ZHVI\",\"2015-03_ZHVI\",\"2015-04_ZHVI\",\"2015-05_ZHVI\",\"2015-06_ZHVI\",\n",
    "                                    \"2015-07_ZHVI\",\"2015-08_ZHVI\",\"2015-09_ZHVI\",\"2015-10_ZHVI\",\"2015-11_ZHVI\",\"2015-12_ZHVI\"]].mean(axis=1)\n",
    "main_data[\"2016-Avg_ZHVI\"] = main_data[[\"2016-01_ZHVI\",\"2016-02_ZHVI\",\"2016-03_ZHVI\",\"2016-04_ZHVI\",\"2016-05_ZHVI\",\"2016-06_ZHVI\",\n",
    "                                    \"2016-07_ZHVI\",\"2016-08_ZHVI\",\"2016-09_ZHVI\",\"2016-10_ZHVI\",\"2016-11_ZHVI\",\"2016-12_ZHVI\"]].mean(axis=1)\n",
    "main_data[\"2017-Avg_ZHVI\"] = main_data[[\"2017-01_ZHVI\",\"2017-02_ZHVI\",\"2017-03_ZHVI\",\"2017-04_ZHVI\",\"2017-05_ZHVI\",\"2017-06_ZHVI\",\n",
    "                                    \"2017-07_ZHVI\",\"2017-08_ZHVI\",\"2017-09_ZHVI\",\"2017-10_ZHVI\",\"2017-11_ZHVI\",\"2017-12_ZHVI\"]].mean(axis=1)\n",
    "main_data[\"2018-Avg_ZHVI\"] = main_data[[\"2018-01_ZHVI\",\"2018-02_ZHVI\",\"2018-03_ZHVI\",\"2018-04_ZHVI\",\"2018-05_ZHVI\",\"2018-06_ZHVI\",\n",
    "                                    \"2018-07_ZHVI\",\"2018-08_ZHVI\",\"2018-09_ZHVI\",\"2018-10_ZHVI\",\"2018-11_ZHVI\",\"2018-12_ZHVI\"]].mean(axis=1)\n",
    "main_data[\"2019-Avg_ZHVI\"] = main_data[[\"2019-01_ZHVI\",\"2019-02_ZHVI\",\"2019-03_ZHVI\",\"2019-04_ZHVI\",\"2019-05_ZHVI\",\"2019-06_ZHVI\",\n",
    "                                    \"2019-07_ZHVI\",\"2019-08_ZHVI\",\"2019-09_ZHVI\",\"2019-10_ZHVI\",\"2019-11_ZHVI\"]].mean(axis=1)\n",
    "\n",
    "\n",
    "\n",
    "home_values_renamed.head()"
   ]
  },
  {
   "cell_type": "code",
   "execution_count": null,
   "metadata": {},
   "outputs": [],
   "source": [
    "\n",
    "data_organized = home_values_renamed[[\"ZIP Code\",\"City\",\"State\",\"Metro\",\"County\",\"2008 Avg.\",\"2009 Avg.\",\n",
    "                                      \"2010 Avg.\",\"2011 Avg.\",\"2012 Avg.\",\"2013 Avg.\",\"2014 Avg.\",\"2015 Avg.\",\n",
    "                                      \"2016 Avg.\",\"2017 Avg.\",\"2018 Avg.\",\"2019 Avg.\"]]\n",
    "\n",
    "data_organized"
   ]
  },
  {
   "cell_type": "code",
   "execution_count": null,
   "metadata": {},
   "outputs": [],
   "source": []
  }
 ],
 "metadata": {
  "celltoolbar": "Raw Cell Format",
  "kernelspec": {
   "display_name": "Python 3",
   "language": "python",
   "name": "python3"
  },
  "language_info": {
   "codemirror_mode": {
    "name": "ipython",
    "version": 3
   },
   "file_extension": ".py",
   "mimetype": "text/x-python",
   "name": "python",
   "nbconvert_exporter": "python",
   "pygments_lexer": "ipython3",
   "version": "3.7.4"
  }
 },
 "nbformat": 4,
 "nbformat_minor": 2
}
